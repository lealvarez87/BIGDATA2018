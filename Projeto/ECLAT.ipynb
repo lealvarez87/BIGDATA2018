{
 "cells": [
  {
   "cell_type": "code",
   "execution_count": 1,
   "metadata": {},
   "outputs": [
    {
     "name": "stdout",
     "output_type": "stream",
     "text": [
      "[['1,101,102,103'], ['2,101,102,103,104,105'], ['3,101,103,104'], ['4,101,102,104,105'], ['5,102,103,104'], ['6,103,105,106,107,108'], ['7,103,105,106,107,110'], ['8,104,106,107,109,110'], ['9,106,108,110'], ['10,102,103,107,108,109']]\n",
      "<class 'pyspark.rdd.PipelinedRDD'>\n"
     ]
    }
   ],
   "source": [
    "import time\n",
    "start = time.time()\n",
    "\n",
    "from pyspark import SparkContext\n",
    "from pyspark import SparkConf\n",
    "\n",
    "sc = SparkContext.getOrCreate();\n",
    "\n",
    "fileName = ('data.txt')\n",
    "numPartitions = 4;\n",
    "minSupport = 3;\n",
    "\n",
    "dados = sc.textFile(fileName);\n",
    "arquivoRDD = sc.parallelize(dados.collect(), numPartitions) \\\n",
    "               .map(lambda x: x.split('\\t'))\n",
    "\n",
    "print(arquivoRDD.take(10));\n",
    "print(type(arquivoRDD));\n"
   ]
  },
  {
   "cell_type": "code",
   "execution_count": 2,
   "metadata": {},
   "outputs": [
    {
     "name": "stdout",
     "output_type": "stream",
     "text": [
      "19\n",
      "[['1,101,102,103'], ['2,101,102,103,104,105'], ['3,101,103,104'], ['4,101,102,104,105'], ['5,102,103,104'], ['6,103,105,106,107,108'], ['7,103,105,106,107,110'], ['8,104,106,107,109,110'], ['9,106,108,110'], ['10,102,103,107,108,109']]\n",
      "<class 'list'>\n"
     ]
    }
   ],
   "source": [
    "numTransacoes = arquivoRDD.count();\n",
    "print(numTransacoes); #numeros de transações\n",
    "elementos = arquivoRDD.take(10)\n",
    "print(elementos)\n",
    "print(type(elementos));\n"
   ]
  },
  {
   "cell_type": "code",
   "execution_count": 3,
   "metadata": {},
   "outputs": [],
   "source": [
    "tuplesRDD = arquivoRDD.map(lambda x : (x[0].split(\",\")[0],  x[0].split(\",\")[1:]));\n",
    "#print(\"Ids:\");\n",
    "#print(tuplesRDD.keys().collect());\n",
    "#print(\"Transações:\");\n",
    "#print(tuplesRDD.values().collect());\n"
   ]
  },
  {
   "cell_type": "code",
   "execution_count": 4,
   "metadata": {},
   "outputs": [
    {
     "name": "stdout",
     "output_type": "stream",
     "text": [
      "[('101', 5), ('102', 10), ('103', 11), ('104', 11), ('105', 5), ('106', 5), ('107', 11), ('108', 7), ('109', 11), ('110', 6)]\n"
     ]
    }
   ],
   "source": [
    "vertical = tuplesRDD.flatMapValues(lambda x : x) \n",
    "verticalTuplesRDD = vertical.map(lambda x : (x[1], x[0])) #inverte disciplina e aluno\n",
    "aggregateByKeyRDD = verticalTuplesRDD.groupByKey() \\\n",
    "                                     .map(lambda x : (x[0], list(x[1]))).sortByKey();\n",
    "\n",
    "print(aggregateByKeyRDD.map(lambda x : (x[0], len(x[1]))).take(10));"
   ]
  },
  {
   "cell_type": "code",
   "execution_count": 5,
   "metadata": {},
   "outputs": [
    {
     "name": "stdout",
     "output_type": "stream",
     "text": [
      "[(['101'], 5), (['102'], 10), (['103'], 11), (['104'], 11), (['105'], 5), (['106'], 5), (['107'], 11), (['108'], 7), (['109'], 11), (['110'], 6)]\n"
     ]
    }
   ],
   "source": [
    "filterValuesRDD = aggregateByKeyRDD.filter(lambda x : len(x[1]) > minSupport) \\\n",
    "                                   .map(lambda x : ([x[0]],x[1]));\n",
    "\n",
    "print(filterValuesRDD.map(lambda x : (x[0], len(x[1]))).take(10)); # (código da disciplina, [códigos dos alunos])\n",
    "#print(filterValuesRDD.count()); #count de disciplinas com mais do que o suporte mínimo\n",
    "\n"
   ]
  },
  {
   "cell_type": "code",
   "execution_count": 6,
   "metadata": {},
   "outputs": [],
   "source": [
    "def distinct(a, b): return list(set(a) ^ set(b))\n",
    "def intersect(a, b): return tuple(set(a) & set(b))\n",
    "def unir(a,b) : return tuple(set(a + b))"
   ]
  },
  {
   "cell_type": "code",
   "execution_count": 7,
   "metadata": {},
   "outputs": [],
   "source": [
    "def funcaox(disc, rdd_collect):\n",
    "    list = [];\n",
    "    for x in rdd_collect:\n",
    "        if not disc[0] == x[0]:\n",
    "            disciplinas = unir(disc[0],x[0])\n",
    "            ids = intersect(disc[1],x[1])\n",
    "            tupla = [sorted(disciplinas),sorted(ids)]\n",
    "            if not tupla in list: list += [tupla]\n",
    "            #tupla = tuple(sorted(disciplinas)),(sorted(ids))\n",
    "            #if not tupla in list: list += [tupla]\n",
    "    return list\n",
    "\n",
    "def funcao(disc, rdd_collect):\n",
    "    lista = [];\n",
    "    for x in rdd_collect:\n",
    "        if (not disc[0] == x[0]) & (disc[0] < x[0]):\n",
    "            disciplinas = unir(disc[0],x[0])\n",
    "            ids = intersect(disc[1],x[1])\n",
    "            tupla = (sorted(disciplinas),sorted(ids))\n",
    "            if not tupla in lista: lista += [tupla]\n",
    "            #tupla = tuple(sorted(disciplinas)),(sorted(ids))\n",
    "            #if not tupla in list: list += [tupla]\n",
    "    return tuple(lista)\n",
    " "
   ]
  },
  {
   "cell_type": "code",
   "execution_count": null,
   "metadata": {},
   "outputs": [],
   "source": [
    "def funcao2x(disc, rdd_collect):\n",
    "    list = [];\n",
    "    for x in rdd_collect:\n",
    "        if not x[0] in disc[0]:\n",
    "            disciplinas = unir(disc[0],x[0])\n",
    "            ids = intersect(disc[1],x[1])\n",
    "            if len(disciplinas) > len(disc[0]):\n",
    "                tupla = [sorted(disciplinas),sorted(ids)]\n",
    "                if not tupla in list: list += [tupla]\n",
    "    return list\n",
    "\n",
    "def funcao2(disc, rdd_collect):\n",
    "    lista = [];\n",
    "    for x in rdd_collect:\n",
    "        if disc[0] != x[0]:\n",
    "            disciplinas = unir(disc[0],x[0])\n",
    "            ids = intersect(disc[1],x[1])\n",
    "            if (len(disciplinas)) == (len(disc[0]) + 1):\n",
    "                tupla = (sorted(disciplinas), sorted(ids))\n",
    "                if not tupla in lista: lista += [tupla]\n",
    "    return tuple(lista)"
   ]
  },
  {
   "cell_type": "code",
   "execution_count": null,
   "metadata": {},
   "outputs": [],
   "source": [
    "disciplinas_singleton = filterValuesRDD.collect()"
   ]
  },
  {
   "cell_type": "code",
   "execution_count": null,
   "metadata": {
    "scrolled": true
   },
   "outputs": [],
   "source": [
    "disciplinasRDD = filterValuesRDD.flatMap(lambda x : funcao(x, disciplinas_singleton))\n",
    "\n",
    "filterDisciplinasRDD = disciplinasRDD.filter(lambda x : len(x[1]) > minSupport) \\\n",
    "                                     .sortByKey()\n",
    "\n",
    "contagem = filterDisciplinasRDD.map(lambda x : (x[0], len(x[1])))\n",
    "print(contagem.collect())"
   ]
  },
  {
   "cell_type": "code",
   "execution_count": null,
   "metadata": {},
   "outputs": [],
   "source": [
    "disciplinas2itemsets = filterDisciplinasRDD.collect()"
   ]
  },
  {
   "cell_type": "code",
   "execution_count": null,
   "metadata": {},
   "outputs": [],
   "source": [
    "#disciplinasRDD2 = filterDisciplinasRDD.flatMap(lambda x : funcao2(x, disciplinas_singleton))\n",
    "disciplinasRDD2 = filterDisciplinasRDD.flatMap(lambda x : funcao2(x, disciplinas2itemsets))\n",
    "\n",
    "filterDisciplinasRDD2 = disciplinasRDD2.filter(lambda x : len(x[1]) > minSupport) \\\n",
    "                                       .sortByKey()\n",
    "\n",
    "contagem2 = filterDisciplinasRDD2.map(lambda x : (x[0], len(x[1])))\n",
    "print(contagem2.collect())"
   ]
  },
  {
   "cell_type": "code",
   "execution_count": null,
   "metadata": {},
   "outputs": [],
   "source": [
    "end = time.time()\n",
    "print(end - start)"
   ]
  },
  {
   "cell_type": "code",
   "execution_count": null,
   "metadata": {},
   "outputs": [],
   "source": []
  },
  {
   "cell_type": "code",
   "execution_count": null,
   "metadata": {},
   "outputs": [],
   "source": []
  },
  {
   "cell_type": "code",
   "execution_count": null,
   "metadata": {},
   "outputs": [],
   "source": []
  },
  {
   "cell_type": "code",
   "execution_count": null,
   "metadata": {},
   "outputs": [],
   "source": []
  }
 ],
 "metadata": {
  "kernelspec": {
   "display_name": "Python 3",
   "language": "python",
   "name": "python3"
  },
  "language_info": {
   "codemirror_mode": {
    "name": "ipython",
    "version": 3
   },
   "file_extension": ".py",
   "mimetype": "text/x-python",
   "name": "python",
   "nbconvert_exporter": "python",
   "pygments_lexer": "ipython3",
   "version": "3.6.4"
  }
 },
 "nbformat": 4,
 "nbformat_minor": 2
}
