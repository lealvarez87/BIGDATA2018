{
 "cells": [
  {
   "cell_type": "code",
   "execution_count": 2,
   "metadata": {},
   "outputs": [
    {
     "name": "stdout",
     "output_type": "stream",
     "text": [
      "[['2,173,17,159,161,160,104,79,106,23,113,20,101,115,117,95,83,74,61,45,1124,1125,1202,9,1836,207,225,195,452,471,153,458,580,576,174,102,149,534,618,621,606,92,335,380,955,338,1079,895,336,573,826,565,141,339,1222,634,488,536,669,672,151,727,1019,1262,732,1080,1112,991,535,119,1113,1114,673,563,954,1081,752,751,1333,2191,1328,1319,1326,1332,7923,493,498,2717,792,729,861,2550,1153,1264,221'], ['3,17,159,161,160,32,104,79,95,83,20,74,26,102,162,108,92,25,23,124,132,97,44,27,15,188,166,489,880,796,965,966,1139,68,152,457,155,652,602,149,145,737,147,741,141,237,151,1234,35,1464,172,38,17,98,104,111,116,23,95,184,489,869,74,102,26,45,79,83,134,237,168,20,106,25,166,68,177,218,689,21,406,216,206,910,1070,896,952,990,1075,874,1130,799,620,492,115,138,762,980,600,197,692,579,769,809,631,151,596,679,1018,535,1019,144,395,818,1062,1222,678,409,638,746,550,1251,720,632,422,805,985,938,691,982,706,1256,887,1049,899,490,2319,2320,10,48,2674,2561,2387,2662,2576,937,2586,916,2663,636,2563,2373,2555,983,410,155,2372,2562,7725,9,559,417,7325,426,2564,845,989,2581,634,2553,2572,221'], ['5,159,161,160,17']]\n",
      "<class 'pyspark.rdd.PipelinedRDD'>\n"
     ]
    }
   ],
   "source": [
    "#carregando arquivo data.txt e criando RDD\n",
    "\n",
    "import time\n",
    "start = time.time()\n",
    "\n",
    "from operator import add\n",
    "\n",
    "from pyspark import SparkContext\n",
    "from pyspark import SparkConf\n",
    "\n",
    "sc = SparkContext.getOrCreate();\n",
    "\n",
    "fileName = ('data.txt')\n",
    "numPartitions = 4;\n",
    "minSupport = 65000;\n",
    "\n",
    "dados = sc.textFile(fileName);\n",
    "arquivoRDD = sc.parallelize(dados.collect(), numPartitions) \\\n",
    "               .map(lambda x: x.split('\\t'))\n",
    "\n",
    "print(arquivoRDD.take(3));\n",
    "print(type(arquivoRDD));"
   ]
  },
  {
   "cell_type": "code",
   "execution_count": 3,
   "metadata": {},
   "outputs": [
    {
     "name": "stdout",
     "output_type": "stream",
     "text": [
      "136957\n",
      "[['2,173,17,159,161,160,104,79,106,23,113,20,101,115,117,95,83,74,61,45,1124,1125,1202,9,1836,207,225,195,452,471,153,458,580,576,174,102,149,534,618,621,606,92,335,380,955,338,1079,895,336,573,826,565,141,339,1222,634,488,536,669,672,151,727,1019,1262,732,1080,1112,991,535,119,1113,1114,673,563,954,1081,752,751,1333,2191,1328,1319,1326,1332,7923,493,498,2717,792,729,861,2550,1153,1264,221'], ['3,17,159,161,160,32,104,79,95,83,20,74,26,102,162,108,92,25,23,124,132,97,44,27,15,188,166,489,880,796,965,966,1139,68,152,457,155,652,602,149,145,737,147,741,141,237,151,1234,35,1464,172,38,17,98,104,111,116,23,95,184,489,869,74,102,26,45,79,83,134,237,168,20,106,25,166,68,177,218,689,21,406,216,206,910,1070,896,952,990,1075,874,1130,799,620,492,115,138,762,980,600,197,692,579,769,809,631,151,596,679,1018,535,1019,144,395,818,1062,1222,678,409,638,746,550,1251,720,632,422,805,985,938,691,982,706,1256,887,1049,899,490,2319,2320,10,48,2674,2561,2387,2662,2576,937,2586,916,2663,636,2563,2373,2555,983,410,155,2372,2562,7725,9,559,417,7325,426,2564,845,989,2581,634,2553,2572,221'], ['5,159,161,160,17']]\n",
      "<class 'list'>\n"
     ]
    }
   ],
   "source": [
    "#apenas mostra número de transações no RDD e um take em 3 elementos do RDD\n",
    "\n",
    "numTransacoes = arquivoRDD.count();\n",
    "print(numTransacoes); #numeros de transações\n",
    "elementos = arquivoRDD.take(3)\n",
    "print(elementos)\n",
    "print(type(elementos));"
   ]
  },
  {
   "cell_type": "code",
   "execution_count": 4,
   "metadata": {},
   "outputs": [
    {
     "name": "stdout",
     "output_type": "stream",
     "text": [
      "[('2', ['173', '17', '159', '161', '160', '104', '79', '106', '23', '113', '20', '101', '115', '117', '95', '83', '74', '61', '45', '1124', '1125', '1202', '9', '1836', '207', '225', '195', '452', '471', '153', '458', '580', '576', '174', '102', '149', '534', '618', '621', '606', '92', '335', '380', '955', '338', '1079', '895', '336', '573', '826', '565', '141', '339', '1222', '634', '488', '536', '669', '672', '151', '727', '1019', '1262', '732', '1080', '1112', '991', '535', '119', '1113', '1114', '673', '563', '954', '1081', '752', '751', '1333', '2191', '1328', '1319', '1326', '1332', '7923', '493', '498', '2717', '792', '729', '861', '2550', '1153', '1264', '221']), ('3', ['17', '159', '161', '160', '32', '104', '79', '95', '83', '20', '74', '26', '102', '162', '108', '92', '25', '23', '124', '132', '97', '44', '27', '15', '188', '166', '489', '880', '796', '965', '966', '1139', '68', '152', '457', '155', '652', '602', '149', '145', '737', '147', '741', '141', '237', '151', '1234', '35', '1464', '172', '38', '17', '98', '104', '111', '116', '23', '95', '184', '489', '869', '74', '102', '26', '45', '79', '83', '134', '237', '168', '20', '106', '25', '166', '68', '177', '218', '689', '21', '406', '216', '206', '910', '1070', '896', '952', '990', '1075', '874', '1130', '799', '620', '492', '115', '138', '762', '980', '600', '197', '692', '579', '769', '809', '631', '151', '596', '679', '1018', '535', '1019', '144', '395', '818', '1062', '1222', '678', '409', '638', '746', '550', '1251', '720', '632', '422', '805', '985', '938', '691', '982', '706', '1256', '887', '1049', '899', '490', '2319', '2320', '10', '48', '2674', '2561', '2387', '2662', '2576', '937', '2586', '916', '2663', '636', '2563', '2373', '2555', '983', '410', '155', '2372', '2562', '7725', '9', '559', '417', '7325', '426', '2564', '845', '989', '2581', '634', '2553', '2572', '221'])]\n"
     ]
    }
   ],
   "source": [
    "#cria tuplas de (ID do aluno, [ids das disciplinas])\n",
    "\n",
    "tuplesRDD = arquivoRDD.map(lambda x : (x[0].split(\",\")[0],  x[0].split(\",\")[1:]));\n",
    "print(tuplesRDD.take(2))"
   ]
  },
  {
   "cell_type": "code",
   "execution_count": 5,
   "metadata": {},
   "outputs": [
    {
     "name": "stdout",
     "output_type": "stream",
     "text": [
      "[('10', 16620), ('100', 10788), ('1000', 2689)]\n"
     ]
    }
   ],
   "source": [
    "#verticaliza a base e agrega tupla com código da disciplina e ids dos alunos (Código da Disciplina, [ids dos alunos])\n",
    "\n",
    "vertical = tuplesRDD.flatMapValues(lambda x : x) \n",
    "verticalTuplesRDD = vertical.map(lambda x : (x[1], x[0])) #inverte disciplina e aluno\n",
    "aggregateByKeyRDD = verticalTuplesRDD.groupByKey() \\\n",
    "                                     .map(lambda x : (x[0], list(x[1]))) \\\n",
    "                                     .sortByKey();\n",
    "print(aggregateByKeyRDD.map(lambda x : (x[0], len(x[1]))).take(3))"
   ]
  },
  {
   "cell_type": "code",
   "execution_count": 6,
   "metadata": {},
   "outputs": [
    {
     "name": "stdout",
     "output_type": "stream",
     "text": [
      "31\n",
      "[(['129'], 144924), (['134'], 104148), (['135'], 147972), (['136'], 103728), (['138'], 100656)]\n"
     ]
    }
   ],
   "source": [
    "#aplica filtro de suporte mínimo nas disciplinas \n",
    "\n",
    "filterValuesRDD = aggregateByKeyRDD.filter(lambda x : len(x[1]) > minSupport) \\\n",
    "                                   .map(lambda x : ([x[0]],x[1]));\n",
    "\n",
    "print(filterValuesRDD.count()); #count de disciplinas com mais do que o suporte mínimo\n",
    "print(filterValuesRDD.map(lambda x : (x[0], len(x[1]))).take(5)); # (código da disciplina, [quantidade de alunos])\n"
   ]
  },
  {
   "cell_type": "code",
   "execution_count": 7,
   "metadata": {},
   "outputs": [],
   "source": [
    "#funções\n",
    "\n",
    "def intersect(a, b): return tuple(set(a) & set(b))\n",
    "def unir(a,b) : return tuple(set(a + b))"
   ]
  },
  {
   "cell_type": "code",
   "execution_count": 8,
   "metadata": {},
   "outputs": [],
   "source": [
    "#função usada na primeira geração de candidatos\n",
    "\n",
    "def funcao(disc, rdd_collect):\n",
    "    lista = [];\n",
    "    for x in rdd_collect:\n",
    "        if (not disc[0] == x[0]) & (disc[0] < x[0]):\n",
    "            disciplinas = unir(disc[0],x[0])\n",
    "            ids = intersect(disc[1],x[1])\n",
    "            tupla = tuple(sorted(disciplinas)),tuple(sorted(ids))\n",
    "            if not tupla in lista: lista += [tupla]\n",
    "            #tupla = tuple(sorted(disciplinas)),(sorted(ids))\n",
    "            #if not tupla in list: list += [tupla]\n",
    "    return tuple(lista) "
   ]
  },
  {
   "cell_type": "code",
   "execution_count": 9,
   "metadata": {},
   "outputs": [],
   "source": [
    "#função usada nas outras gerações de candidatos\n",
    "\n",
    "def funcao2(disc, rdd_collect):\n",
    "    lista = []\n",
    "    for x in rdd_collect:\n",
    "        if disc[0] != x[0]:\n",
    "            disciplinas = unir(disc[0],x[0])\n",
    "            ids = intersect(disc[1],x[1])\n",
    "            if (len(disciplinas)) == (len(disc[0]) + 1):\n",
    "                tupla = tuple(sorted(disciplinas)),tuple(sorted(ids))\n",
    "                #tupla = (sorted(disciplinas), sorted(ids))\n",
    "                if not(tupla in lista):lista += [tupla]\n",
    "    return tuple(lista)"
   ]
  },
  {
   "cell_type": "code",
   "execution_count": 10,
   "metadata": {
    "scrolled": true
   },
   "outputs": [
    {
     "name": "stdout",
     "output_type": "stream",
     "text": [
      "[(('129', '135'), 70992), (('129', '139'), 69900), (('129', '153'), 70512), (('129', '17'), 66984), (('135', '139'), 70092), (('135', '153'), 70260), (('135', '17'), 66288), (('139', '153'), 70032), (('139', '17'), 65916), (('147', '17'), 65736), (('153', '17'), 67080)]\n"
     ]
    }
   ],
   "source": [
    "# map com funçao para primeira geração de candidatos + filter de suporte mínimo\n",
    "\n",
    "disciplinas_singleton = filterValuesRDD.collect()\n",
    "filterDisciplinasRDD = filterValuesRDD.flatMap(lambda x : funcao(x, disciplinas_singleton)) \\\n",
    "                                      .filter(lambda x : len(x[1]) > minSupport) \\\n",
    "                                      .sortByKey()\n",
    "\n",
    "contagem = filterDisciplinasRDD.map(lambda x : (x[0], len(x[1])))\n",
    "print(contagem.collect())"
   ]
  },
  {
   "cell_type": "code",
   "execution_count": 11,
   "metadata": {},
   "outputs": [
    {
     "name": "stdout",
     "output_type": "stream",
     "text": [
      "[(('129', '135', '139'), 69444), (('129', '135', '153'), 69684), (('129', '135', '17'), 65400), (('129', '139', '153'), 69288), (('129', '139', '17'), 65100), (('129', '153', '17'), 65532), (('135', '139', '153'), 69372), (('135', '139', '17'), 65124), (('135', '153', '17'), 65160), (('139', '153', '17'), 65292)]\n"
     ]
    }
   ],
   "source": [
    "# maps com função para geração de próximos candidatos + reduce + filter de suporte mínimo\n",
    "\n",
    "disciplinas2itemsets = filterDisciplinasRDD.collect()\n",
    "\n",
    "filterDisciplinasRDD2 = filterDisciplinasRDD.flatMap(lambda x : funcao2(x, disciplinas2itemsets)) \\\n",
    "                                            .map(lambda x : (x,1)) \\\n",
    "                                            .reduceByKey(add) \\\n",
    "                                            .sortByKey() \\\n",
    "                                            .map(lambda x : x[0]) \\\n",
    "                                            .filter(lambda x : len(x[1]) > minSupport)\n",
    "    \n",
    "contagem2 = filterDisciplinasRDD2.map(lambda x : (x[0], len(x[1])))\n",
    "print(contagem2.collect())"
   ]
  },
  {
   "cell_type": "code",
   "execution_count": 12,
   "metadata": {},
   "outputs": [
    {
     "name": "stdout",
     "output_type": "stream",
     "text": [
      "[(('129', '135', '139', '153'), 68976)]\n"
     ]
    }
   ],
   "source": [
    "disciplinas3itemsets = filterDisciplinasRDD2.collect()\n",
    "\n",
    "filterDisciplinasRDD3 = filterDisciplinasRDD2.flatMap(lambda x : funcao2(x, disciplinas3itemsets)) \\\n",
    "                                             .map(lambda x : (x,1)) \\\n",
    "                                             .reduceByKey(add) \\\n",
    "                                             .sortByKey() \\\n",
    "                                             .map(lambda x : x[0]) \\\n",
    "                                             .filter(lambda x : len(x[1]) > minSupport)\n",
    "    \n",
    "contagem3 = filterDisciplinasRDD3.map(lambda x : (x[0], len(x[1])))\n",
    "print(contagem3.collect())"
   ]
  },
  {
   "cell_type": "code",
   "execution_count": 13,
   "metadata": {},
   "outputs": [
    {
     "name": "stdout",
     "output_type": "stream",
     "text": [
      "[]\n"
     ]
    }
   ],
   "source": [
    "disciplinas4itemsets = filterDisciplinasRDD3.collect()\n",
    "\n",
    "filterDisciplinasRDD4 = filterDisciplinasRDD3.flatMap(lambda x : funcao2(x, disciplinas4itemsets)) \\\n",
    "                                             .map(lambda x : (x,1)) \\\n",
    "                                             .reduceByKey(add) \\\n",
    "                                             .sortByKey() \\\n",
    "                                             .map(lambda x : x[0]) \\\n",
    "                                             .filter(lambda x : len(x[1]) > minSupport)\n",
    "    \n",
    "contagem4 = filterDisciplinasRDD4.map(lambda x : (x[0], len(x[1])))\n",
    "print(contagem4.collect())"
   ]
  },
  {
   "cell_type": "code",
   "execution_count": 14,
   "metadata": {},
   "outputs": [
    {
     "name": "stdout",
     "output_type": "stream",
     "text": [
      "Com  4  partições | Tempo de Execução:  342.8978066444397\n"
     ]
    }
   ],
   "source": [
    "# Tempo de execução:\n",
    "end = time.time()\n",
    "tempo = (end - start)\n",
    "print(\"Com \",numPartitions,\" partições | Tempo de Execução: \", tempo)"
   ]
  },
  {
   "cell_type": "code",
   "execution_count": null,
   "metadata": {},
   "outputs": [],
   "source": []
  },
  {
   "cell_type": "code",
   "execution_count": null,
   "metadata": {},
   "outputs": [],
   "source": []
  }
 ],
 "metadata": {
  "kernelspec": {
   "display_name": "Python 3",
   "language": "python",
   "name": "python3"
  },
  "language_info": {
   "codemirror_mode": {
    "name": "ipython",
    "version": 3
   },
   "file_extension": ".py",
   "mimetype": "text/x-python",
   "name": "python",
   "nbconvert_exporter": "python",
   "pygments_lexer": "ipython3",
   "version": "3.6.4"
  }
 },
 "nbformat": 4,
 "nbformat_minor": 2
}
